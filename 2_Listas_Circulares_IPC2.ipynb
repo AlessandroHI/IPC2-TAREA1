{
  "nbformat": 4,
  "nbformat_minor": 0,
  "metadata": {
    "colab": {
      "name": "2. Listas Circulares_IPC2.ipynb",
      "provenance": [],
      "authorship_tag": "ABX9TyORO6KjyO7DG/d+NA8nvZqP",
      "include_colab_link": true
    },
    "kernelspec": {
      "name": "python3",
      "display_name": "Python 3"
    },
    "language_info": {
      "name": "python"
    }
  },
  "cells": [
    {
      "cell_type": "markdown",
      "metadata": {
        "id": "view-in-github",
        "colab_type": "text"
      },
      "source": [
        "<a href=\"https://colab.research.google.com/github/AlessandroHI/IPC2-TAREAS/blob/master/2_Listas_Circulares_IPC2.ipynb\" target=\"_parent\"><img src=\"https://colab.research.google.com/assets/colab-badge.svg\" alt=\"Open In Colab\"/></a>"
      ]
    },
    {
      "cell_type": "markdown",
      "metadata": {
        "id": "lMk8diBJzm9d"
      },
      "source": [
        "# **Lista Circulares**\n",
        "**Definicion de la clase estudiante**"
      ]
    },
    {
      "cell_type": "code",
      "metadata": {
        "id": "Oky6GRUVzw2S"
      },
      "source": [
        "class estudiante:\n",
        "  def __init__(self, carne,nombre, edad, direccion, telefono, email, carrera, puesto):\n",
        "    self.carne= carne\n",
        "    self.nombre = nombre\n",
        "    self.edad = edad\n",
        "    self.direccion = direccion\n",
        "    self.telefono = telefono\n",
        "    self.email= email\n",
        "    self.carrera = carrera\n",
        "    self.puesto = puesto"
      ],
      "execution_count": 1,
      "outputs": []
    },
    {
      "cell_type": "markdown",
      "metadata": {
        "id": "1d2Nu3-00B5i"
      },
      "source": [
        "**Definición de la clase Nodo**"
      ]
    },
    {
      "cell_type": "code",
      "metadata": {
        "id": "7mHQXgP30Ckq"
      },
      "source": [
        "class nodo:\n",
        "  def __init__(self, estudiante=None, siguiente= None):\n",
        "    self.estudiante= estudiante\n",
        "    self.siguiente= siguiente"
      ],
      "execution_count": 2,
      "outputs": []
    },
    {
      "cell_type": "markdown",
      "metadata": {
        "id": "_tHztiEp1XpS"
      },
      "source": [
        "**Definición de la clase Lista Circular**"
      ]
    },
    {
      "cell_type": "code",
      "metadata": {
        "id": "IbvnesVq1dmz"
      },
      "source": [
        "class lista_circular:\n",
        "  def __init__(self):\n",
        "    self.primero =None\n",
        "\n",
        "  def insertar(self, estudiante):\n",
        "    if self.primero is None:\n",
        "      self.primero= nodo(estudiante=estudiante)\n",
        "      self.primero.siguiente = self.primero\n",
        "    else:\n",
        "      actual=nodo(estudiante=estudiante, siguiente=self.primero.siguiente)\n",
        "      self.primero.siguiente= actual\n",
        "\n",
        "  def recorrer(self):\n",
        "    if self.primero is None:\n",
        "      return\n",
        "    actual = self.primero\n",
        "    print(\"Carne:\", actual.estudiante.carne, \"Nombre:\", actual.estudiante.nombre, \"email:\", actual.estudiante.email, \"---\")\n",
        "    while actual.siguiente != self.primero:\n",
        "      actual = actual.siguiente\n",
        "      print(\"Carne:\", actual.estudiante.carne, \"Nombre:\", actual.estudiante.nombre, \"email:\", actual.estudiante.email, \"---\")\n",
        "\n",
        "  def eliminar(self, carnet):\n",
        "    actual = self.primero\n",
        "    anterior = None\n",
        "\n",
        "    while actual and actual.estudiante.carne != carnet:\n",
        "      anterior = actual\n",
        "      actual = actual.siguiente\n",
        "      if actual == self.primero:\n",
        "        break\n",
        "  \n",
        "    if anterior is not None:\n",
        "      anterior.siguiente = actual.siguiente\n",
        "    else:\n",
        "      while actual.siguiente != self.primero:\n",
        "        actual = actual.siguiente\n",
        "      actual.siguiente = self.primero.siguiente\n",
        "      self.primero = self.primero.siguiente\n",
        "\n",
        "\n",
        "  def Buscar(self, carnet):\n",
        "    actual = self.primero\n",
        "    if actual.estudiante.carne == carnet:\n",
        "      print(\"Carne:\", actual.estudiante.carne, \"Nombre:\", actual.estudiante.nombre, \"email:\", actual.estudiante.email, \"---\")\n",
        "      \n",
        "    while actual.siguiente != self.primero:\n",
        "      actual = actual.siguiente\n",
        "      if actual.estudiante.carne == carnet:\n",
        "        print(\"Carne:\", actual.estudiante.carne, \"Nombre:\", actual.estudiante.nombre, \"email:\", actual.estudiante.email, \"---\")\n",
        "\n",
        "\n",
        "    "
      ],
      "execution_count": 3,
      "outputs": []
    },
    {
      "cell_type": "markdown",
      "metadata": {
        "id": "0Zc6Is5o9wLk"
      },
      "source": [
        "**Creacion de objeto estudiante**"
      ]
    },
    {
      "cell_type": "code",
      "metadata": {
        "id": "ixLoluga93-F"
      },
      "source": [
        "e1 = estudiante(201901801,\"Ivan Hilario\",23,\"9na Ave. 10-2 zona 2\",51133704,\"ivanaless@gmail.com\",\"Sistemas\",\"Programador Jr\")\n",
        "e2 = estudiante(201801701,\"Jose Gomes\",18,\"4ta calle 6ave. zona 1\",51133704,\"joselopH@gmail.com\",\"Arquitectura\",\"Programador Jr\")\n",
        "e3 = estudiante(200001801,\"Eliza Cabrera\",17,\"8-2 zona 1\",51133704,\"elizacabrera@gmail.com\",\"Sistemas\",\"Programador Jr\")"
      ],
      "execution_count": 4,
      "outputs": []
    },
    {
      "cell_type": "markdown",
      "metadata": {
        "id": "HuIV7ctO9_0s"
      },
      "source": [
        "**Insercion**\n"
      ]
    },
    {
      "cell_type": "code",
      "metadata": {
        "id": "TjDJvH-d-Cvz"
      },
      "source": [
        "lista_c=lista_circular()\n",
        "lista_c.insertar(e1)\n",
        "lista_c.insertar(e2)\n",
        "lista_c.insertar(e3)"
      ],
      "execution_count": 5,
      "outputs": []
    },
    {
      "cell_type": "markdown",
      "metadata": {
        "id": "1LH6WcC8-PpE"
      },
      "source": [
        "**Recorrer lista**"
      ]
    },
    {
      "cell_type": "code",
      "metadata": {
        "id": "iVOc9YFy-R4r",
        "colab": {
          "base_uri": "https://localhost:8080/"
        },
        "outputId": "4e4c7b15-37a7-4880-f7ab-266bb50de5bb"
      },
      "source": [
        "lista_c.recorrer()"
      ],
      "execution_count": 6,
      "outputs": [
        {
          "output_type": "stream",
          "text": [
            "Carne: 201901801 Nombre: Ivan Hilario email: ivanaless@gmail.com ---\n",
            "Carne: 200001801 Nombre: Eliza Cabrera email: elizacabrera@gmail.com ---\n",
            "Carne: 201801701 Nombre: Jose Gomes email: joselopH@gmail.com ---\n"
          ],
          "name": "stdout"
        }
      ]
    },
    {
      "cell_type": "markdown",
      "metadata": {
        "id": "h8bHxi_zrtAI"
      },
      "source": [
        "**Eliminar nodo de lista**\n"
      ]
    },
    {
      "cell_type": "code",
      "metadata": {
        "colab": {
          "base_uri": "https://localhost:8080/"
        },
        "id": "f8WhQyhZrw98",
        "outputId": "1ed31db4-b4c4-469e-e4a8-5cbcb68e0be0"
      },
      "source": [
        "lista_c.eliminar(201801701)\n",
        "lista_c.recorrer()"
      ],
      "execution_count": 7,
      "outputs": [
        {
          "output_type": "stream",
          "text": [
            "Carne: 201901801 Nombre: Ivan Hilario email: ivanaless@gmail.com ---\n",
            "Carne: 200001801 Nombre: Eliza Cabrera email: elizacabrera@gmail.com ---\n"
          ],
          "name": "stdout"
        }
      ]
    },
    {
      "cell_type": "markdown",
      "metadata": {
        "id": "Zz-op97Lubdf"
      },
      "source": [
        "**Buscar Nodo**"
      ]
    },
    {
      "cell_type": "code",
      "metadata": {
        "colab": {
          "base_uri": "https://localhost:8080/"
        },
        "id": "dtsPgOCBuerR",
        "outputId": "ba82347b-5ea7-4cfc-bb4f-8f7ca7dbc539"
      },
      "source": [
        "lista_c.Buscar(200001801 )"
      ],
      "execution_count": 8,
      "outputs": [
        {
          "output_type": "stream",
          "text": [
            "Carne: 200001801 Nombre: Eliza Cabrera email: elizacabrera@gmail.com ---\n"
          ],
          "name": "stdout"
        }
      ]
    }
  ]
}