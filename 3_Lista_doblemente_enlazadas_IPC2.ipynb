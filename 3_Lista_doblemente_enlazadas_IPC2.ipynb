{
  "nbformat": 4,
  "nbformat_minor": 0,
  "metadata": {
    "colab": {
      "name": "3. Lista doblemente enlazadas.ipynb",
      "provenance": [],
      "authorship_tag": "ABX9TyMUrAZiSTmdLOIRFQRCJlvA",
      "include_colab_link": true
    },
    "kernelspec": {
      "name": "python3",
      "display_name": "Python 3"
    },
    "language_info": {
      "name": "python"
    }
  },
  "cells": [
    {
      "cell_type": "markdown",
      "metadata": {
        "id": "view-in-github",
        "colab_type": "text"
      },
      "source": [
        "<a href=\"https://colab.research.google.com/github/AlessandroHI/IPC2-TAREAS/blob/master/3_Lista_doblemente_enlazadas_IPC2.ipynb\" target=\"_parent\"><img src=\"https://colab.research.google.com/assets/colab-badge.svg\" alt=\"Open In Colab\"/></a>"
      ]
    },
    {
      "cell_type": "markdown",
      "metadata": {
        "id": "lMk8diBJzm9d"
      },
      "source": [
        " # **Lista Doblemente Elazada**\n",
        "**Definicion de la clase estudiante**"
      ]
    },
    {
      "cell_type": "code",
      "metadata": {
        "id": "ZrY19shjvnXN"
      },
      "source": [
        "class estudiante:\n",
        "  def __init__(self, carne, nombre, edad, direccion, telefono, email, carrera, puesto):\n",
        "    self.carne = carne\n",
        "    self.nombre = nombre\n",
        "    self.edad = edad\n",
        "    self.direccion = direccion\n",
        "    self.telefono = telefono\n",
        "    self.email = email\n",
        "    self.carrera = carrera\n",
        "    self.puesto = puesto"
      ],
      "execution_count": 1,
      "outputs": []
    },
    {
      "cell_type": "markdown",
      "metadata": {
        "id": "dzkJ0oWDzmf8"
      },
      "source": [
        "**Definición de clase nodo**"
      ]
    },
    {
      "cell_type": "code",
      "metadata": {
        "id": "4SKLy-yczsua"
      },
      "source": [
        "class nodo:\n",
        "  def __init__(self, estudiante=None, siguiente=None, anterior=None):\n",
        "    self.estudiante = estudiante\n",
        "    self.siguiente = siguiente\n",
        "    self.anterior = anterior"
      ],
      "execution_count": 2,
      "outputs": []
    },
    {
      "cell_type": "markdown",
      "metadata": {
        "id": "-r0L6Bg00HOi"
      },
      "source": [
        "**Definición de la clase Lista doblemente enlazada**"
      ]
    },
    {
      "cell_type": "code",
      "metadata": {
        "id": "TmHAv2eK0MeB"
      },
      "source": [
        "class lista_doble:\n",
        "  def __init__(self):\n",
        "    self.primero = None\n",
        "\n",
        "  def insertar(self, estudiante):\n",
        "    if self.primero is None:\n",
        "      self.primero = nodo(estudiante=estudiante)\n",
        "    else:\n",
        "      actual = nodo(estudiante=estudiante, siguiente=self.primero)\n",
        "      self.primero.anterior = actual\n",
        "      self.primero = actual\n",
        "  \n",
        "  def recorrer(self):\n",
        "    if self.primero is None:\n",
        "      return\n",
        "    actual = self.primero\n",
        "    print(\"carne:\", actual.estudiante.carne, \"nombre:\", actual.estudiante.nombre, \"email:\", actual.estudiante.email, \"->\")\n",
        "    while actual.siguiente:\n",
        "      actual = actual.siguiente\n",
        "      print(\"carne:\", actual.estudiante.carne, \"nombre:\", actual.estudiante.nombre, \"email:\", actual.estudiante.email, \"->\")\n",
        "  \n",
        "  def eliminar(self, carne):\n",
        "    actual = self.primero\n",
        "    while actual:\n",
        "      if actual.estudiante.carne == carne:\n",
        "        if actual.anterior:\n",
        "          if actual.siguiente:\n",
        "            actual.anterior.siguiente = actual.siguiente\n",
        "            actual.siguiente.anterior = actual.anterior\n",
        "          else:\n",
        "            actual.anterior.siguiente = None\n",
        "            actual.anterior = None\n",
        "        else:\n",
        "          if actual.siguiente:\n",
        "            self.primero = actual.siguiente\n",
        "            actual.siguiente.anterior = None\n",
        "          else:\n",
        "            self.primero = None\n",
        "        return True\n",
        "      else:\n",
        "        actual = actual.siguiente\n",
        "    return False\n",
        "  \n",
        "  def buscar(self, carne):\n",
        "    actual = self.primero\n",
        "    while actual and actual.estudiante.carne != carne:\n",
        "      actual = actual.siguiente\n",
        "    if actual is None:\n",
        "      print('Nodo no existente en la lista')\n",
        "    elif actual:\n",
        "      print(\"carne:\", actual.estudiante.carne, \"nombre:\", actual.estudiante.nombre, \"email:\", actual.estudiante.email)"
      ],
      "execution_count": 3,
      "outputs": []
    },
    {
      "cell_type": "markdown",
      "metadata": {
        "id": "bICZHDch2Rnb"
      },
      "source": [
        "**Creacion de objetos Estudiantes**"
      ]
    },
    {
      "cell_type": "code",
      "metadata": {
        "id": "dGAnQxQr2WFn"
      },
      "source": [
        "e1 = estudiante(201901801,\"Ivan Hilario\",23,\"9na Ave. 10-2 zona 2\",51133704,\"ivanaless@gmail.com\",\"Sistemas\",\"Programador Jr\")\n",
        "e2 = estudiante(201801701,\"Jose Gomes\",18,\"4ta calle 6ave. zona 1\",51133704,\"joselopH@gmail.com\",\"Sistemas\",\"Programador Jr\")\n",
        "e3 = estudiante(200001801,\"Eliza Cabrera\",17,\"8-2 zona 1\",51133704,\"elizacabrera@gmail.com\",\"Sistemas\",\"Programador Jr\")"
      ],
      "execution_count": 4,
      "outputs": []
    },
    {
      "cell_type": "markdown",
      "metadata": {
        "id": "_zw1LoDx2Yfm"
      },
      "source": [
        "**Inserccion**"
      ]
    },
    {
      "cell_type": "code",
      "metadata": {
        "id": "RzRr4vGy2bYH"
      },
      "source": [
        "lista_d = lista_doble()\n",
        "lista_d.insertar(e1)\n",
        "lista_d.insertar(e2)\n",
        "lista_d.insertar(e3)"
      ],
      "execution_count": 5,
      "outputs": []
    },
    {
      "cell_type": "markdown",
      "metadata": {
        "id": "OhB83C0awWPT"
      },
      "source": [
        "**Recorrer lista**"
      ]
    },
    {
      "cell_type": "code",
      "metadata": {
        "colab": {
          "base_uri": "https://localhost:8080/"
        },
        "id": "OUaF2dCQwZlS",
        "outputId": "83e9dd84-64fb-41e7-f5c4-4cd98066eb90"
      },
      "source": [
        "lista_d.recorrer()"
      ],
      "execution_count": 6,
      "outputs": [
        {
          "output_type": "stream",
          "text": [
            "carne: 200001801 nombre: Eliza Cabrera email: elizacabrera@gmail.com ->\n",
            "carne: 201801701 nombre: Jose Gomes email: joselopH@gmail.com ->\n",
            "carne: 201901801 nombre: Ivan Hilario email: ivanaless@gmail.com ->\n"
          ],
          "name": "stdout"
        }
      ]
    },
    {
      "cell_type": "markdown",
      "metadata": {
        "id": "yOx6FRltxtfi"
      },
      "source": [
        "**Eliminar nodo medio**"
      ]
    },
    {
      "cell_type": "code",
      "metadata": {
        "colab": {
          "base_uri": "https://localhost:8080/"
        },
        "id": "cZ-Uu_ScaoQm",
        "outputId": "dcca7060-85a9-4b7b-e0c1-08d4c6f2f906"
      },
      "source": [
        "lista_d.eliminar(201801701)"
      ],
      "execution_count": 7,
      "outputs": [
        {
          "output_type": "execute_result",
          "data": {
            "text/plain": [
              "True"
            ]
          },
          "metadata": {},
          "execution_count": 7
        }
      ]
    },
    {
      "cell_type": "code",
      "metadata": {
        "colab": {
          "base_uri": "https://localhost:8080/"
        },
        "id": "9IEvWj9lxwG9",
        "outputId": "ba74a841-98bb-469a-b1b5-182c88d599a1"
      },
      "source": [
        "lista_d.recorrer()"
      ],
      "execution_count": 8,
      "outputs": [
        {
          "output_type": "stream",
          "text": [
            "carne: 200001801 nombre: Eliza Cabrera email: elizacabrera@gmail.com ->\n",
            "carne: 201901801 nombre: Ivan Hilario email: ivanaless@gmail.com ->\n"
          ],
          "name": "stdout"
        }
      ]
    },
    {
      "cell_type": "markdown",
      "metadata": {
        "id": "2LcsRGSg9Q9M"
      },
      "source": [
        "**Eliminar primer nodo**\n"
      ]
    },
    {
      "cell_type": "code",
      "metadata": {
        "colab": {
          "base_uri": "https://localhost:8080/"
        },
        "id": "P0m0-dhr9VLM",
        "outputId": "6871cdf8-e81b-4bb5-dc6e-41f99c72b510"
      },
      "source": [
        "lista_d.eliminar(200001801)"
      ],
      "execution_count": 9,
      "outputs": [
        {
          "output_type": "execute_result",
          "data": {
            "text/plain": [
              "True"
            ]
          },
          "metadata": {},
          "execution_count": 9
        }
      ]
    },
    {
      "cell_type": "code",
      "metadata": {
        "colab": {
          "base_uri": "https://localhost:8080/"
        },
        "id": "mLwuoRErcC1u",
        "outputId": "9232c102-3ef0-42fe-e425-27fe98eda163"
      },
      "source": [
        "lista_d.recorrer()"
      ],
      "execution_count": 10,
      "outputs": [
        {
          "output_type": "stream",
          "text": [
            "carne: 201901801 nombre: Ivan Hilario email: ivanaless@gmail.com ->\n"
          ],
          "name": "stdout"
        }
      ]
    },
    {
      "cell_type": "markdown",
      "metadata": {
        "id": "8JGYGQMTcDrF"
      },
      "source": [
        "**Eliminar ultimo nodo**"
      ]
    },
    {
      "cell_type": "code",
      "metadata": {
        "colab": {
          "base_uri": "https://localhost:8080/"
        },
        "id": "ccj2NZzFcJWW",
        "outputId": "acc55a0e-7f4c-41a6-ec7e-8740e042d41a"
      },
      "source": [
        "lista_d.eliminar(201901801)"
      ],
      "execution_count": 11,
      "outputs": [
        {
          "output_type": "execute_result",
          "data": {
            "text/plain": [
              "True"
            ]
          },
          "metadata": {},
          "execution_count": 11
        }
      ]
    },
    {
      "cell_type": "code",
      "metadata": {
        "id": "axuklpCkcM2M"
      },
      "source": [
        "lista_d.recorrer()"
      ],
      "execution_count": 12,
      "outputs": []
    },
    {
      "cell_type": "markdown",
      "metadata": {
        "id": "MX3S4q4RcTRE"
      },
      "source": [
        "**Eliminar nodo a nodo de la lista**"
      ]
    },
    {
      "cell_type": "code",
      "metadata": {
        "colab": {
          "base_uri": "https://localhost:8080/"
        },
        "id": "iqL5TucGcYUL",
        "outputId": "cb36e2ab-7068-46bf-f93a-05b0fd3dbada"
      },
      "source": [
        "lista_d.eliminar(200001801)\n",
        "lista_d.recorrer()"
      ],
      "execution_count": 8,
      "outputs": [
        {
          "output_type": "stream",
          "text": [
            "carne: 201801701 nombre: Jose Gomes email: joselopH@gmail.com ->\n",
            "carne: 201901801 nombre: Ivan Hilario email: ivanaless@gmail.com ->\n"
          ],
          "name": "stdout"
        }
      ]
    },
    {
      "cell_type": "code",
      "metadata": {
        "colab": {
          "base_uri": "https://localhost:8080/"
        },
        "id": "7q3RjfPVcbV6",
        "outputId": "8e8307d9-3cb4-4d55-f05e-84a12f581443"
      },
      "source": [
        "lista_d.eliminar(201801701)\n",
        "lista_d.recorrer()"
      ],
      "execution_count": 9,
      "outputs": [
        {
          "output_type": "stream",
          "text": [
            "carne: 201901801 nombre: Ivan Hilario email: ivanaless@gmail.com ->\n"
          ],
          "name": "stdout"
        }
      ]
    },
    {
      "cell_type": "code",
      "metadata": {
        "id": "CC6Y_Axjcc_i"
      },
      "source": [
        "lista_d.eliminar(201901801)\n",
        "lista_d.recorrer()"
      ],
      "execution_count": 10,
      "outputs": []
    },
    {
      "cell_type": "markdown",
      "metadata": {
        "id": "9LvHGbpHcdfs"
      },
      "source": [
        "**Busqueda de nodo en la lista**"
      ]
    },
    {
      "cell_type": "code",
      "metadata": {
        "colab": {
          "base_uri": "https://localhost:8080/"
        },
        "id": "Nc1uw7vecnp7",
        "outputId": "e1cebc22-45be-4d94-a053-50cee1d3563e"
      },
      "source": [
        "lista_d.buscar(201801701)"
      ],
      "execution_count": 7,
      "outputs": [
        {
          "output_type": "stream",
          "text": [
            "carne: 201801701 nombre: Jose Gomes email: joselopH@gmail.com\n"
          ],
          "name": "stdout"
        }
      ]
    },
    {
      "cell_type": "code",
      "metadata": {
        "colab": {
          "base_uri": "https://localhost:8080/"
        },
        "id": "6sXzVjVLepqO",
        "outputId": "c9fbb43b-9607-418e-ef7f-0c20a42a9361"
      },
      "source": [
        "lista_d.buscar(20201452)"
      ],
      "execution_count": 8,
      "outputs": [
        {
          "output_type": "stream",
          "text": [
            "Nodo no existente en la lista\n"
          ],
          "name": "stdout"
        }
      ]
    }
  ]
}