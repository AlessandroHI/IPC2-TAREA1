{
  "nbformat": 4,
  "nbformat_minor": 0,
  "metadata": {
    "colab": {
      "name": "1. Listas enlazadas.ipynb",
      "provenance": [],
      "collapsed_sections": [],
      "authorship_tag": "ABX9TyMON9x+SFZN5WvzyRwtdWNS",
      "include_colab_link": true
    },
    "kernelspec": {
      "name": "python3",
      "display_name": "Python 3"
    },
    "language_info": {
      "name": "python"
    }
  },
  "cells": [
    {
      "cell_type": "markdown",
      "metadata": {
        "id": "view-in-github",
        "colab_type": "text"
      },
      "source": [
        "<a href=\"https://colab.research.google.com/github/AlessandroHI/IPC2-TAREA1/blob/master/1_Listas_enlazadas%20IPC2.ipynb\" target=\"_parent\"><img src=\"https://colab.research.google.com/assets/colab-badge.svg\" alt=\"Open In Colab\"/></a>"
      ]
    },
    {
      "cell_type": "markdown",
      "metadata": {
        "id": "QlKP3wratc2x"
      },
      "source": [
        "##**Listas Enlazadas**\n",
        "**Definición de la clase Estudiante**"
      ]
    },
    {
      "cell_type": "code",
      "metadata": {
        "id": "r33QLFNYyPcD"
      },
      "source": [
        "class estudiante:\n",
        "  def __init__(self, carnet, nombre, edad, direccion, email, carrera, puesto):\n",
        "    self.carnet = carnet\n",
        "    self.nombre = nombre\n",
        "    self.edad = edad\n",
        "    self.direccion = direccion\n",
        "    self.email = email\n",
        "    self.carrera = carrera\n",
        "    self.puesto = puesto"
      ],
      "execution_count": 33,
      "outputs": []
    },
    {
      "cell_type": "markdown",
      "metadata": {
        "id": "N5P_mylpzSM3"
      },
      "source": [
        "**Definición de la clase Nodo**\n"
      ]
    },
    {
      "cell_type": "code",
      "metadata": {
        "id": "oySOIC-kzaWD"
      },
      "source": [
        "class nodo:\n",
        "  def __init__(self, estudiante = None, siguiente = None):\n",
        "    self.estudiante = estudiante\n",
        "    self.siguiente = siguiente"
      ],
      "execution_count": 34,
      "outputs": []
    },
    {
      "cell_type": "markdown",
      "metadata": {
        "id": "WN-2p0UY20sN"
      },
      "source": [
        "**Definición de la clase Lista Enlazada**"
      ]
    },
    {
      "cell_type": "code",
      "metadata": {
        "id": "qnNQ3Pwi25Lw"
      },
      "source": [
        "class lista_enlazada:\n",
        "  def __init__(self):\n",
        "    self.primero = None\n",
        "\n",
        "  def insertar(self, est):\n",
        "    if self.primero is None:\n",
        "      self.primero = nodo(estudiante=est)\n",
        "      return \n",
        "    actual = self.primero\n",
        "    while actual.siguiente:\n",
        "      actual = actual.siguiente\n",
        "    actual.siguiente = nodo(estudiante=est)\n",
        "\n",
        "\n",
        "  def recorrer(self):\n",
        "    actual = self.primero\n",
        "    while actual != None:\n",
        "      print('carné:',actual.estudiante.carnet, \"Nombre:\", actual.estudiante.nombre, \"email:\",actual.estudiante.email, \"-->\" )\n",
        "      actual = actual.siguiente\n",
        "\n",
        "\n",
        "  def eliminar(self, carnet):\n",
        "    actual = self.primero\n",
        "    anterior = None\n",
        "    parametro = carnet\n",
        "\n",
        "    while actual and actual.estudiante.carnet != parametro:\n",
        "      anterior = actual\n",
        "      actual = actual.siguiente\n",
        "\n",
        "      if anterior is None:\n",
        "        self.primero = actual.siguiente\n",
        "        actual.siguiente = None\n",
        "      elif actual:\n",
        "        anterior.siguiente = actual.siguiente \n",
        "        actual.siguiente = None\n",
        "  \n",
        "  def Buscar(self, carne):\n",
        "    actual = self.primero\n",
        "    anterior = None\n",
        "    parametro = carne\n",
        "\n",
        "    while actual and actual.estudiante.carnet != parametro:\n",
        "      anterior = actual\n",
        "      actual = actual.siguiente\n",
        "    \n",
        "    if actual.estudiante.carnet == parametro:\n",
        "     print('carné:',actual.estudiante.carnet, \"Nombre:\", actual.estudiante.nombre, \"Email\",actual.estudiante.email, \"-->\" )"
      ],
      "execution_count": 35,
      "outputs": []
    },
    {
      "cell_type": "markdown",
      "metadata": {
        "id": "rp_TkpK64hwG"
      },
      "source": [
        "**Creación de objetos Estudiante**\n"
      ]
    },
    {
      "cell_type": "code",
      "metadata": {
        "id": "9zbWQjedslsz"
      },
      "source": [
        "e1 = estudiante(201901801,\"Ivan Hilario\",23,\"Guatemala\",\"ivanalessadroh@gmail.com\",\"Ingenieria Sistemas\",\"Programador Jr\")\n",
        "e2 = estudiante(201801701,\"Luis Chacon\",18,\"Guatemala\",\"luischacS@gmail.com\",\"Ingenieria Sistemas\",\"Programador Jr\")\n",
        "e3 = estudiante(200001801,\"Elizabeth Lopez\",17,\"Guatemala\",\"elizalopez@gmail.com\",\"Ingenieria Sistemas\",\"Programador Jr\")"
      ],
      "execution_count": 36,
      "outputs": []
    },
    {
      "cell_type": "markdown",
      "metadata": {
        "id": "f-xBc_kyt2Xa"
      },
      "source": [
        "**Inserccion**"
      ]
    },
    {
      "cell_type": "code",
      "metadata": {
        "id": "3GM5uY1qt2fx"
      },
      "source": [
        "lista_e = lista_enlazada()\n",
        "lista_e.insertar(e1)\n",
        "lista_e.insertar(e2)\n",
        "lista_e.insertar(e3)"
      ],
      "execution_count": 37,
      "outputs": []
    },
    {
      "cell_type": "markdown",
      "metadata": {
        "id": "g6EZM2jouazx"
      },
      "source": [
        "**Recorrer**"
      ]
    },
    {
      "cell_type": "code",
      "metadata": {
        "colab": {
          "base_uri": "https://localhost:8080/"
        },
        "id": "a3ak1mc8ua4V",
        "outputId": "6a0fa8bd-7627-49ff-d66a-775c41755e19"
      },
      "source": [
        "lista_e.recorrer()"
      ],
      "execution_count": 38,
      "outputs": [
        {
          "output_type": "stream",
          "text": [
            "carné: 201901801 Nombre: Ivan Hilario email: ivanalessadroh@gmail.com -->\n",
            "carné: 201801701 Nombre: Luis Chacon email: luischacS@gmail.com -->\n",
            "carné: 200001801 Nombre: Elizabeth Lopez email: elizalopez@gmail.com -->\n"
          ],
          "name": "stdout"
        }
      ]
    },
    {
      "cell_type": "markdown",
      "metadata": {
        "id": "xWPqWMjVxIBF"
      },
      "source": [
        "**Eliminación de un nodo en lista**"
      ]
    },
    {
      "cell_type": "code",
      "metadata": {
        "colab": {
          "base_uri": "https://localhost:8080/"
        },
        "id": "ItPz10jtxIGk",
        "outputId": "4b7eab55-bcd6-4112-aa00-436a16888b5b"
      },
      "source": [
        "lista_e.eliminar(201801701)\n",
        "lista_e.recorrer()"
      ],
      "execution_count": 39,
      "outputs": [
        {
          "output_type": "stream",
          "text": [
            "carné: 201901801 Nombre: Ivan Hilario email: ivanalessadroh@gmail.com -->\n",
            "carné: 200001801 Nombre: Elizabeth Lopez email: elizalopez@gmail.com -->\n"
          ],
          "name": "stdout"
        }
      ]
    },
    {
      "cell_type": "markdown",
      "metadata": {
        "id": "KXSmA_IjLSag"
      },
      "source": [
        "**Buscar un nodo en lista**"
      ]
    },
    {
      "cell_type": "code",
      "metadata": {
        "colab": {
          "base_uri": "https://localhost:8080/"
        },
        "id": "iksFpYAjLX8_",
        "outputId": "d2c2af70-dddd-472a-b169-944af5008d00"
      },
      "source": [
        "lista_e.Buscar(200001801)"
      ],
      "execution_count": 40,
      "outputs": [
        {
          "output_type": "stream",
          "text": [
            "carné: 200001801 Nombre: Elizabeth Lopez Email elizalopez@gmail.com -->\n"
          ],
          "name": "stdout"
        }
      ]
    }
  ]
}